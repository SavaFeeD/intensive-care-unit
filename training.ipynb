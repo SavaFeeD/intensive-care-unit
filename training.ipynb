{
 "cells": [
  {
   "cell_type": "markdown",
   "id": "35b12070",
   "metadata": {},
   "source": [
    "### tables:\n",
    "1. Pacients (Пациент)\n",
    "2. PacientStats (Измерения показатилей пациента)\n",
    "3. HospitalStats (Целевые переменные)"
   ]
  },
  {
   "cell_type": "code",
   "execution_count": 21,
   "id": "4db78c4c",
   "metadata": {},
   "outputs": [],
   "source": [
    "import os\n",
    "\n",
    "import pandas as pd\n",
    "import numpy as np\n",
    "import collections\n",
    "\n",
    "import matplotlib.pyplot as plt\n",
    "import seaborn as sns\n",
    "\n",
    "from sqlalchemy import create_engine"
   ]
  },
  {
   "cell_type": "code",
   "execution_count": 2,
   "id": "c431d368",
   "metadata": {},
   "outputs": [],
   "source": [
    "import warnings\n",
    "warnings.filterwarnings('ignore')"
   ]
  },
  {
   "cell_type": "markdown",
   "id": "3e1e7d02",
   "metadata": {},
   "source": [
    "## Formation table: HospitalStats"
   ]
  },
  {
   "cell_type": "markdown",
   "id": "c7f7747b",
   "metadata": {},
   "source": [
    "Формируем таблицу с целевыми переменными с полями:\n",
    "\n",
    "1. RecordID - уникальный идентификационный номер пациента\n",
    "2. Survival - целевая переменная, содержит информацию сколько дней прожил пациент после попадания в отделение интенсивной терапии (например, 575б 918, 5 и т. д.), -1 означает что пациент жив до сих пор.\n",
    "3. In-hospital_death - целевая переменная, содержит информацию умер человек в отделение интенсивной терапии (1) или нет (0)."
   ]
  },
  {
   "cell_type": "code",
   "execution_count": 3,
   "id": "287b67eb",
   "metadata": {},
   "outputs": [],
   "source": [
    "outcomes = pd.read_csv('data/Outcomes.csv')"
   ]
  },
  {
   "cell_type": "code",
   "execution_count": 4,
   "id": "a04540ee",
   "metadata": {},
   "outputs": [
    {
     "data": {
      "text/html": [
       "<div>\n",
       "<style scoped>\n",
       "    .dataframe tbody tr th:only-of-type {\n",
       "        vertical-align: middle;\n",
       "    }\n",
       "\n",
       "    .dataframe tbody tr th {\n",
       "        vertical-align: top;\n",
       "    }\n",
       "\n",
       "    .dataframe thead th {\n",
       "        text-align: right;\n",
       "    }\n",
       "</style>\n",
       "<table border=\"1\" class=\"dataframe\">\n",
       "  <thead>\n",
       "    <tr style=\"text-align: right;\">\n",
       "      <th></th>\n",
       "      <th>RecordID</th>\n",
       "      <th>Survival</th>\n",
       "      <th>In-hospital_death</th>\n",
       "    </tr>\n",
       "  </thead>\n",
       "  <tbody>\n",
       "    <tr>\n",
       "      <th>0</th>\n",
       "      <td>132539</td>\n",
       "      <td>-1</td>\n",
       "      <td>0</td>\n",
       "    </tr>\n",
       "    <tr>\n",
       "      <th>1</th>\n",
       "      <td>132540</td>\n",
       "      <td>-1</td>\n",
       "      <td>0</td>\n",
       "    </tr>\n",
       "    <tr>\n",
       "      <th>2</th>\n",
       "      <td>132541</td>\n",
       "      <td>-1</td>\n",
       "      <td>0</td>\n",
       "    </tr>\n",
       "    <tr>\n",
       "      <th>3</th>\n",
       "      <td>132543</td>\n",
       "      <td>575</td>\n",
       "      <td>0</td>\n",
       "    </tr>\n",
       "    <tr>\n",
       "      <th>4</th>\n",
       "      <td>132545</td>\n",
       "      <td>918</td>\n",
       "      <td>0</td>\n",
       "    </tr>\n",
       "  </tbody>\n",
       "</table>\n",
       "</div>"
      ],
      "text/plain": [
       "   RecordID  Survival  In-hospital_death\n",
       "0    132539        -1                  0\n",
       "1    132540        -1                  0\n",
       "2    132541        -1                  0\n",
       "3    132543       575                  0\n",
       "4    132545       918                  0"
      ]
     },
     "execution_count": 4,
     "metadata": {},
     "output_type": "execute_result"
    }
   ],
   "source": [
    "outcomes.head()"
   ]
  },
  {
   "cell_type": "markdown",
   "id": "b4252e8b",
   "metadata": {},
   "source": [
    "## Formation table: Pacients"
   ]
  },
  {
   "cell_type": "markdown",
   "id": "e9aaa852",
   "metadata": {},
   "source": [
    "У пациента будут поля:\n",
    "\n",
    "1. RecordID - уникальный идентификационный номер пациента.\n",
    "2. Age - возраст пациента в годах.\n",
    "3. Gender - пол пациента (0: female, or 1: male).\n",
    "4. Height - рост пациента в сантиметрах.\n",
    "5. ICUType - тип отделения интенсивной терапии куда был доставлен пациент (1: Coronary Care Unit, 2: Cardiac Surgery Recovery Unit, 3: Medical ICU, or 4: Surgical ICU).\n",
    "6. Weight - вес пациента в киллограммах (Обратите внимание, что вес является как общим дескриптором (записывается при поступлении), так и переменной временного ряда (часто измеряется ежечасно для оценки баланса жидкости))."
   ]
  },
  {
   "cell_type": "markdown",
   "id": "21afd2ef",
   "metadata": {},
   "source": [
    "Меняем формат всех файлов в папке \"data/set\" с .txt на .csv"
   ]
  },
  {
   "cell_type": "code",
   "execution_count": 5,
   "id": "f0d88e6c",
   "metadata": {},
   "outputs": [],
   "source": [
    "for root, dirs, files in os.walk(\"./data/set\"):\n",
    "    for filename in files:\n",
    "        base = os.path.splitext(filename)[0]\n",
    "        os.rename(f'./data/set/{filename}', f'./data/set/{base}.csv')"
   ]
  },
  {
   "cell_type": "code",
   "execution_count": 6,
   "id": "168373f8",
   "metadata": {},
   "outputs": [],
   "source": [
    "datas = {}\n",
    "recordID_list = []\n",
    "\n",
    "for root, dirs, files in os.walk(\"./data/set\"):\n",
    "    for filename in files:\n",
    "        recordID = os.path.splitext(filename)[0]\n",
    "        datas[recordID] = pd.read_csv(f'./data/set/{filename}')\n",
    "        recordID_list.append(recordID)"
   ]
  },
  {
   "cell_type": "code",
   "execution_count": 7,
   "id": "21e8dbef",
   "metadata": {
    "scrolled": false
   },
   "outputs": [
    {
     "data": {
      "text/html": [
       "<div>\n",
       "<style scoped>\n",
       "    .dataframe tbody tr th:only-of-type {\n",
       "        vertical-align: middle;\n",
       "    }\n",
       "\n",
       "    .dataframe tbody tr th {\n",
       "        vertical-align: top;\n",
       "    }\n",
       "\n",
       "    .dataframe thead th {\n",
       "        text-align: right;\n",
       "    }\n",
       "</style>\n",
       "<table border=\"1\" class=\"dataframe\">\n",
       "  <thead>\n",
       "    <tr style=\"text-align: right;\">\n",
       "      <th></th>\n",
       "      <th>Time</th>\n",
       "      <th>Parameter</th>\n",
       "      <th>Value</th>\n",
       "    </tr>\n",
       "  </thead>\n",
       "  <tbody>\n",
       "    <tr>\n",
       "      <th>0</th>\n",
       "      <td>00:00</td>\n",
       "      <td>RecordID</td>\n",
       "      <td>132539.00</td>\n",
       "    </tr>\n",
       "    <tr>\n",
       "      <th>1</th>\n",
       "      <td>00:00</td>\n",
       "      <td>Age</td>\n",
       "      <td>54.00</td>\n",
       "    </tr>\n",
       "    <tr>\n",
       "      <th>2</th>\n",
       "      <td>00:00</td>\n",
       "      <td>Gender</td>\n",
       "      <td>0.00</td>\n",
       "    </tr>\n",
       "    <tr>\n",
       "      <th>3</th>\n",
       "      <td>00:00</td>\n",
       "      <td>Height</td>\n",
       "      <td>-1.00</td>\n",
       "    </tr>\n",
       "    <tr>\n",
       "      <th>4</th>\n",
       "      <td>00:00</td>\n",
       "      <td>ICUType</td>\n",
       "      <td>4.00</td>\n",
       "    </tr>\n",
       "    <tr>\n",
       "      <th>...</th>\n",
       "      <td>...</td>\n",
       "      <td>...</td>\n",
       "      <td>...</td>\n",
       "    </tr>\n",
       "    <tr>\n",
       "      <th>268</th>\n",
       "      <td>47:37</td>\n",
       "      <td>NIMAP</td>\n",
       "      <td>79.33</td>\n",
       "    </tr>\n",
       "    <tr>\n",
       "      <th>269</th>\n",
       "      <td>47:37</td>\n",
       "      <td>NISysABP</td>\n",
       "      <td>128.00</td>\n",
       "    </tr>\n",
       "    <tr>\n",
       "      <th>270</th>\n",
       "      <td>47:37</td>\n",
       "      <td>RespRate</td>\n",
       "      <td>23.00</td>\n",
       "    </tr>\n",
       "    <tr>\n",
       "      <th>271</th>\n",
       "      <td>47:37</td>\n",
       "      <td>Temp</td>\n",
       "      <td>37.80</td>\n",
       "    </tr>\n",
       "    <tr>\n",
       "      <th>272</th>\n",
       "      <td>47:37</td>\n",
       "      <td>Urine</td>\n",
       "      <td>280.00</td>\n",
       "    </tr>\n",
       "  </tbody>\n",
       "</table>\n",
       "<p>273 rows × 3 columns</p>\n",
       "</div>"
      ],
      "text/plain": [
       "      Time Parameter      Value\n",
       "0    00:00  RecordID  132539.00\n",
       "1    00:00       Age      54.00\n",
       "2    00:00    Gender       0.00\n",
       "3    00:00    Height      -1.00\n",
       "4    00:00   ICUType       4.00\n",
       "..     ...       ...        ...\n",
       "268  47:37     NIMAP      79.33\n",
       "269  47:37  NISysABP     128.00\n",
       "270  47:37  RespRate      23.00\n",
       "271  47:37      Temp      37.80\n",
       "272  47:37     Urine     280.00\n",
       "\n",
       "[273 rows x 3 columns]"
      ]
     },
     "execution_count": 7,
     "metadata": {},
     "output_type": "execute_result"
    }
   ],
   "source": [
    "datas[recordID_list[0]]"
   ]
  },
  {
   "cell_type": "code",
   "execution_count": 8,
   "id": "a645c1aa",
   "metadata": {
    "scrolled": true
   },
   "outputs": [],
   "source": [
    "users_stats_df = [datas[idx] for idx in recordID_list]\n",
    "params = pd.concat(users_stats_df, ignore_index=True)\n",
    "\n",
    "params = list(params['Parameter'])\n",
    "chart_data = dict(collections.Counter(params))\n",
    "\n",
    "chart_data = pd.DataFrame([chart_data])\n",
    "lim_up = max(chart_data.values.tolist()[0])"
   ]
  },
  {
   "cell_type": "code",
   "execution_count": 9,
   "id": "470ce478",
   "metadata": {},
   "outputs": [
    {
     "data": {
      "text/html": [
       "<div>\n",
       "<style scoped>\n",
       "    .dataframe tbody tr th:only-of-type {\n",
       "        vertical-align: middle;\n",
       "    }\n",
       "\n",
       "    .dataframe tbody tr th {\n",
       "        vertical-align: top;\n",
       "    }\n",
       "\n",
       "    .dataframe thead th {\n",
       "        text-align: right;\n",
       "    }\n",
       "</style>\n",
       "<table border=\"1\" class=\"dataframe\">\n",
       "  <thead>\n",
       "    <tr style=\"text-align: right;\">\n",
       "      <th></th>\n",
       "      <th>Основные характеристики</th>\n",
       "    </tr>\n",
       "  </thead>\n",
       "  <tbody>\n",
       "    <tr>\n",
       "      <th>0</th>\n",
       "      <td>RecordID</td>\n",
       "    </tr>\n",
       "    <tr>\n",
       "      <th>1</th>\n",
       "      <td>Age</td>\n",
       "    </tr>\n",
       "    <tr>\n",
       "      <th>2</th>\n",
       "      <td>Gender</td>\n",
       "    </tr>\n",
       "    <tr>\n",
       "      <th>3</th>\n",
       "      <td>Height</td>\n",
       "    </tr>\n",
       "    <tr>\n",
       "      <th>4</th>\n",
       "      <td>ICUType</td>\n",
       "    </tr>\n",
       "    <tr>\n",
       "      <th>5</th>\n",
       "      <td>Weight</td>\n",
       "    </tr>\n",
       "  </tbody>\n",
       "</table>\n",
       "</div>"
      ],
      "text/plain": [
       "  Основные характеристики\n",
       "0                RecordID\n",
       "1                     Age\n",
       "2                  Gender\n",
       "3                  Height\n",
       "4                 ICUType\n",
       "5                  Weight"
      ]
     },
     "execution_count": 9,
     "metadata": {},
     "output_type": "execute_result"
    }
   ],
   "source": [
    "main = {param: chart_data[param].iloc[0] for param in chart_data.columns if chart_data[param].iloc[0] == 8000}\n",
    "main['Weight'] = 0\n",
    "main = main.keys()\n",
    "pd.DataFrame([{\"Основные характеристики\": h} for h in main])"
   ]
  },
  {
   "cell_type": "code",
   "execution_count": 10,
   "id": "0fbd34fc",
   "metadata": {
    "scrolled": true
   },
   "outputs": [
    {
     "data": {
      "text/html": [
       "<div>\n",
       "<style scoped>\n",
       "    .dataframe tbody tr th:only-of-type {\n",
       "        vertical-align: middle;\n",
       "    }\n",
       "\n",
       "    .dataframe tbody tr th {\n",
       "        vertical-align: top;\n",
       "    }\n",
       "\n",
       "    .dataframe thead th {\n",
       "        text-align: right;\n",
       "    }\n",
       "</style>\n",
       "<table border=\"1\" class=\"dataframe\">\n",
       "  <thead>\n",
       "    <tr style=\"text-align: right;\">\n",
       "      <th></th>\n",
       "      <th>RecordID</th>\n",
       "      <th>Age</th>\n",
       "      <th>Gender</th>\n",
       "      <th>Height</th>\n",
       "      <th>ICUType</th>\n",
       "      <th>Weight</th>\n",
       "    </tr>\n",
       "  </thead>\n",
       "  <tbody>\n",
       "  </tbody>\n",
       "</table>\n",
       "</div>"
      ],
      "text/plain": [
       "Empty DataFrame\n",
       "Columns: [RecordID, Age, Gender, Height, ICUType, Weight]\n",
       "Index: []"
      ]
     },
     "execution_count": 10,
     "metadata": {},
     "output_type": "execute_result"
    }
   ],
   "source": [
    "patients_cols = main\n",
    "patients = pd.DataFrame(columns = patients_cols)\n",
    "patients"
   ]
  },
  {
   "cell_type": "code",
   "execution_count": 11,
   "id": "12ecb4b3",
   "metadata": {},
   "outputs": [],
   "source": [
    "for recordID in recordID_list:\n",
    "    row = {}\n",
    "    for col in patients_cols:\n",
    "        row[col] = datas[recordID][datas[recordID]['Parameter'] == col]['Value'].values[-1:][0]\n",
    "    patients = patients.append(pd.DataFrame([row]), ignore_index=True)"
   ]
  },
  {
   "cell_type": "code",
   "execution_count": 12,
   "id": "97391dc8",
   "metadata": {
    "scrolled": true
   },
   "outputs": [
    {
     "data": {
      "text/html": [
       "<div>\n",
       "<style scoped>\n",
       "    .dataframe tbody tr th:only-of-type {\n",
       "        vertical-align: middle;\n",
       "    }\n",
       "\n",
       "    .dataframe tbody tr th {\n",
       "        vertical-align: top;\n",
       "    }\n",
       "\n",
       "    .dataframe thead th {\n",
       "        text-align: right;\n",
       "    }\n",
       "</style>\n",
       "<table border=\"1\" class=\"dataframe\">\n",
       "  <thead>\n",
       "    <tr style=\"text-align: right;\">\n",
       "      <th></th>\n",
       "      <th>RecordID</th>\n",
       "      <th>Age</th>\n",
       "      <th>Gender</th>\n",
       "      <th>Height</th>\n",
       "      <th>ICUType</th>\n",
       "      <th>Weight</th>\n",
       "    </tr>\n",
       "  </thead>\n",
       "  <tbody>\n",
       "    <tr>\n",
       "      <th>0</th>\n",
       "      <td>132539.0</td>\n",
       "      <td>54.0</td>\n",
       "      <td>0.0</td>\n",
       "      <td>-1.0</td>\n",
       "      <td>4.0</td>\n",
       "      <td>-1.0</td>\n",
       "    </tr>\n",
       "    <tr>\n",
       "      <th>1</th>\n",
       "      <td>132540.0</td>\n",
       "      <td>76.0</td>\n",
       "      <td>1.0</td>\n",
       "      <td>175.3</td>\n",
       "      <td>2.0</td>\n",
       "      <td>81.6</td>\n",
       "    </tr>\n",
       "    <tr>\n",
       "      <th>2</th>\n",
       "      <td>132541.0</td>\n",
       "      <td>44.0</td>\n",
       "      <td>0.0</td>\n",
       "      <td>-1.0</td>\n",
       "      <td>3.0</td>\n",
       "      <td>56.7</td>\n",
       "    </tr>\n",
       "    <tr>\n",
       "      <th>3</th>\n",
       "      <td>132543.0</td>\n",
       "      <td>68.0</td>\n",
       "      <td>1.0</td>\n",
       "      <td>180.3</td>\n",
       "      <td>3.0</td>\n",
       "      <td>84.6</td>\n",
       "    </tr>\n",
       "    <tr>\n",
       "      <th>4</th>\n",
       "      <td>132545.0</td>\n",
       "      <td>88.0</td>\n",
       "      <td>0.0</td>\n",
       "      <td>-1.0</td>\n",
       "      <td>3.0</td>\n",
       "      <td>-1.0</td>\n",
       "    </tr>\n",
       "    <tr>\n",
       "      <th>...</th>\n",
       "      <td>...</td>\n",
       "      <td>...</td>\n",
       "      <td>...</td>\n",
       "      <td>...</td>\n",
       "      <td>...</td>\n",
       "      <td>...</td>\n",
       "    </tr>\n",
       "    <tr>\n",
       "      <th>7995</th>\n",
       "      <td>152849.0</td>\n",
       "      <td>78.0</td>\n",
       "      <td>1.0</td>\n",
       "      <td>180.3</td>\n",
       "      <td>2.0</td>\n",
       "      <td>87.5</td>\n",
       "    </tr>\n",
       "    <tr>\n",
       "      <th>7996</th>\n",
       "      <td>152851.0</td>\n",
       "      <td>90.0</td>\n",
       "      <td>1.0</td>\n",
       "      <td>177.8</td>\n",
       "      <td>3.0</td>\n",
       "      <td>87.4</td>\n",
       "    </tr>\n",
       "    <tr>\n",
       "      <th>7997</th>\n",
       "      <td>152858.0</td>\n",
       "      <td>70.0</td>\n",
       "      <td>0.0</td>\n",
       "      <td>152.4</td>\n",
       "      <td>2.0</td>\n",
       "      <td>79.3</td>\n",
       "    </tr>\n",
       "    <tr>\n",
       "      <th>7998</th>\n",
       "      <td>152862.0</td>\n",
       "      <td>49.0</td>\n",
       "      <td>0.0</td>\n",
       "      <td>-1.0</td>\n",
       "      <td>3.0</td>\n",
       "      <td>57.0</td>\n",
       "    </tr>\n",
       "    <tr>\n",
       "      <th>7999</th>\n",
       "      <td>152864.0</td>\n",
       "      <td>82.0</td>\n",
       "      <td>0.0</td>\n",
       "      <td>-1.0</td>\n",
       "      <td>2.0</td>\n",
       "      <td>-1.0</td>\n",
       "    </tr>\n",
       "  </tbody>\n",
       "</table>\n",
       "<p>8000 rows × 6 columns</p>\n",
       "</div>"
      ],
      "text/plain": [
       "      RecordID   Age Gender Height ICUType Weight\n",
       "0     132539.0  54.0    0.0   -1.0     4.0   -1.0\n",
       "1     132540.0  76.0    1.0  175.3     2.0   81.6\n",
       "2     132541.0  44.0    0.0   -1.0     3.0   56.7\n",
       "3     132543.0  68.0    1.0  180.3     3.0   84.6\n",
       "4     132545.0  88.0    0.0   -1.0     3.0   -1.0\n",
       "...        ...   ...    ...    ...     ...    ...\n",
       "7995  152849.0  78.0    1.0  180.3     2.0   87.5\n",
       "7996  152851.0  90.0    1.0  177.8     3.0   87.4\n",
       "7997  152858.0  70.0    0.0  152.4     2.0   79.3\n",
       "7998  152862.0  49.0    0.0   -1.0     3.0   57.0\n",
       "7999  152864.0  82.0    0.0   -1.0     2.0   -1.0\n",
       "\n",
       "[8000 rows x 6 columns]"
      ]
     },
     "execution_count": 12,
     "metadata": {},
     "output_type": "execute_result"
    }
   ],
   "source": [
    "patients"
   ]
  },
  {
   "cell_type": "markdown",
   "id": "186d192e",
   "metadata": {},
   "source": [
    "## Formation table: PacientStats"
   ]
  },
  {
   "cell_type": "markdown",
   "id": "ab1e4b72",
   "metadata": {},
   "source": [
    "Таблица с показателями пациентов (по времени снятия показателей):\n",
    "\n",
    "1. Albumin (g/dL).\n",
    "2. ALP [Alkaline phosphatase (IU/L)].\n",
    "3. ALT [Alanine transaminase (IU/L)].\n",
    "4. AST [Aspartate transaminase (IU/L)].\n",
    "5. Bilirubin (mg/dL).\n",
    "6. BUN [Blood urea nitrogen (mg/dL)].\n",
    "7. Cholesterol (mg/dL).\n",
    "8. Creatinine [Serum creatinine (mg/dL)].\n",
    "9. DiasABP [Invasive diastolic arterial blood pressure (mmHg)].\n",
    "10. FiO2 [Fractional inspired O2 (0-1)].\n",
    "11. GCS [Glasgow Coma Score (3-15)].\n",
    "12. Glucose [Serum glucose (mg/dL)].\n",
    "13. HCO3 [Serum bicarbonate (mmol/L)].\n",
    "14. HCT [Hematocrit (%)].\n",
    "15. HR [Heart rate (bpm)].\n",
    "16. K [Serum potassium (mEq/L)].\n",
    "17. Lactate (mmol/L).\n",
    "18. Mg [Serum magnesium (mmol/L)].\n",
    "19. MAP [Invasive mean arterial blood pressure (mmHg)].\n",
    "20. MechVent [Mechanical ventilation respiration (0:false, or 1:true)].\n",
    "21. Na [Serum sodium (mEq/L)].\n",
    "22. NIDiasABP [Non-invasive diastolic arterial blood pressure (mmHg)].\n",
    "23. NIMAP [Non-invasive mean arterial blood pressure (mmHg)].\n",
    "24. NISysABP [Non-invasive systolic arterial blood pressure (mmHg)].\n",
    "25. PaCO2 [partial pressure of arterial CO2 (mmHg)].\n",
    "26. PaO2 [Partial pressure of arterial O2 (mmHg)].\n",
    "27. pH [Arterial pH (0-14)].\n",
    "28. Platelets (cells/nL).\n",
    "29. RespRate [Respiration rate (bpm)].\n",
    "30. SaO2 [O2 saturation in hemoglobin (%)].\n",
    "31. SysABP [Invasive systolic arterial blood pressure (mmHg)].\n",
    "32. Temp [Temperature (°C)].\n",
    "33. TropI [Troponin-I (μg/L)].\n",
    "34. TropT [Troponin-T (μg/L)].\n",
    "35. Urine [Urine output (mL)].\n",
    "36. WBC [White blood cell count (cells/nL)].\n",
    "37. Weight (kg).\n",
    "\n",
    "+\n",
    "\n",
    "38. RecordID - индентификатор пациента\n",
    "39. Time - время снятия показателей"
   ]
  },
  {
   "cell_type": "markdown",
   "id": "d8a81746",
   "metadata": {},
   "source": [
    "Таски:\n",
    "\n",
    "1. Избавляемся от основных показателей из временного ряда\n",
    "2. Выстраиваем строки в таблице в соответсвии с временем снятия показателей\n",
    "3. Заполняем пропуски по соседним полям для использования приблезительно точные значения"
   ]
  },
  {
   "cell_type": "markdown",
   "id": "cbe901c5",
   "metadata": {},
   "source": [
    "Общее кол-во значений по времянной шкале не равное 8000 (кол-ву пользователей)"
   ]
  },
  {
   "cell_type": "markdown",
   "id": "faded0cb",
   "metadata": {},
   "source": [
    "параметры значения которых большее 20%"
   ]
  },
  {
   "cell_type": "code",
   "execution_count": 13,
   "id": "ad037f3f",
   "metadata": {},
   "outputs": [
    {
     "data": {
      "image/png": "[encoded data removed]",
      "text/plain": [
       "<Figure size 720x720 with 1 Axes>"
      ]
     },
     "metadata": {},
     "output_type": "display_data"
    }
   ],
   "source": [
    "cd_1 = {param: chart_data[param].iloc[0] for param in chart_data.columns\n",
    "        if chart_data[param].iloc[0] > lim_up*0.2 and chart_data[param].iloc[0] != 8000}\n",
    "cd = pd.DataFrame([cd_1])\n",
    "colors = sns.color_palette('pastel')[:len(cd.iloc[0].values.tolist())]\n",
    "\n",
    "plt.rcParams[\"figure.figsize\"] = (10, 10)\n",
    "plt.pie(cd.values.tolist()[0], labels=cd.columns, colors=colors)\n",
    "plt.show()"
   ]
  },
  {
   "cell_type": "markdown",
   "id": "e443de1e",
   "metadata": {},
   "source": [
    "параметры значание вхождений которых меньше 20%"
   ]
  },
  {
   "cell_type": "code",
   "execution_count": 14,
   "id": "9cc1ed69",
   "metadata": {},
   "outputs": [
    {
     "data": {
      "image/png": "[encoded data removed]",
      "text/plain": [
       "<Figure size 720x720 with 1 Axes>"
      ]
     },
     "metadata": {},
     "output_type": "display_data"
    }
   ],
   "source": [
    "cd_2 = {param: chart_data[param].iloc[0] for param in chart_data.columns\n",
    "        if chart_data[param].iloc[0] < lim_up*0.2 and chart_data[param].iloc[0] != 8000}\n",
    "cd = pd.DataFrame([cd_2])\n",
    "color = sns.color_palette('pastel')[:len(cd.iloc[0].values.tolist())]\n",
    "\n",
    "plt.rcParams[\"figure.figsize\"] = (10, 10)\n",
    "plt.pie(cd.values.tolist()[0], labels=cd.columns, colors=colors)\n",
    "plt.show()"
   ]
  },
  {
   "cell_type": "code",
   "execution_count": null,
   "id": "6538c8d9",
   "metadata": {},
   "outputs": [],
   "source": []
  },
  {
   "cell_type": "code",
   "execution_count": null,
   "id": "7c3fc385",
   "metadata": {},
   "outputs": [],
   "source": []
  },
  {
   "cell_type": "markdown",
   "id": "e3822759",
   "metadata": {},
   "source": [
    "# Work with the database"
   ]
  },
  {
   "cell_type": "code",
   "execution_count": 16,
   "id": "b5bfc481",
   "metadata": {},
   "outputs": [],
   "source": [
    "engine = create_engine('sqlite:///db.sqlite')"
   ]
  },
  {
   "cell_type": "code",
   "execution_count": 17,
   "id": "886b144b",
   "metadata": {},
   "outputs": [
    {
     "name": "stdout",
     "output_type": "stream",
     "text": [
      "База очищена\n"
     ]
    }
   ],
   "source": [
    "engine.execute(\"\"\"\n",
    "drop table if exists patients\n",
    "\"\"\")\n",
    "print(\"База очищена\")"
   ]
  },
  {
   "cell_type": "code",
   "execution_count": 18,
   "id": "004af7c1",
   "metadata": {
    "scrolled": true
   },
   "outputs": [
    {
     "data": {
      "text/plain": [
       "<sqlalchemy.engine.cursor.LegacyCursorResult at 0x145d8fdac40>"
      ]
     },
     "execution_count": 18,
     "metadata": {},
     "output_type": "execute_result"
    }
   ],
   "source": [
    "engine.execute(\"\"\"\n",
    "create table if not exists patients (\n",
    "    RecordID INTEGER PRIMARY KEY NOT NULL,\n",
    "    Age INTEGER,\n",
    "    Gender INTEGER,\n",
    "    Height FLOAT,\n",
    "    ICUType INTEGER,\n",
    "    Weight FLOAT\n",
    ");\n",
    "\"\"\")"
   ]
  },
  {
   "cell_type": "code",
   "execution_count": 19,
   "id": "fbef6649",
   "metadata": {
    "scrolled": false
   },
   "outputs": [],
   "source": [
    "table_name = 'patients'\n",
    "columns_list = list(main)\n",
    "columns_names = str(columns_list).replace('[', '').replace(']', '')\n",
    "injections = str(['?' for i in columns_list]).replace('[', '').replace(']', '').replace(\"'\", '')\n",
    "\n",
    "for value in patients.values:\n",
    "    engine.execute(\n",
    "        f\"INSERT INTO {table_name} ({columns_names}) VALUES ({injections})\",\n",
    "        [value]\n",
    "    )"
   ]
  },
  {
   "cell_type": "code",
   "execution_count": 20,
   "id": "ccbb0ba7",
   "metadata": {},
   "outputs": [
    {
     "data": {
      "text/plain": [
       "[(132539, 54, 0, -1.0, 4, -1.0),\n",
       " (132540, 76, 1, 175.3, 2, 81.6),\n",
       " (132541, 44, 0, -1.0, 3, 56.7),\n",
       " (132543, 68, 1, 180.3, 3, 84.6),\n",
       " (132545, 88, 0, -1.0, 3, -1.0),\n",
       " (132547, 64, 1, 180.3, 1, 114.0),\n",
       " (132548, 68, 0, 162.6, 3, 87.0),\n",
       " (132551, 78, 0, 162.6, 3, 48.4),\n",
       " (132554, 64, 0, -1.0, 3, 60.7),\n",
       " (132555, 74, 1, 175.3, 2, 69.7)]"
      ]
     },
     "execution_count": 20,
     "metadata": {},
     "output_type": "execute_result"
    }
   ],
   "source": [
    "engine.execute(\"\"\"\n",
    "    select * from patients\n",
    "\"\"\").fetchall()[:10]"
   ]
  },
  {
   "cell_type": "code",
   "execution_count": null,
   "id": "118fc3ac",
   "metadata": {},
   "outputs": [],
   "source": []
  },
  {
   "cell_type": "code",
   "execution_count": null,
   "id": "56c73b40",
   "metadata": {},
   "outputs": [],
   "source": []
  }
 ],
 "metadata": {
  "kernelspec": {
   "display_name": "Python 3 (ipykernel)",
   "language": "python",
   "name": "python3"
  },
  "language_info": {
   "codemirror_mode": {
    "name": "ipython",
    "version": 3
   },
   "file_extension": ".py",
   "mimetype": "text/x-python",
   "name": "python",
   "nbconvert_exporter": "python",
   "pygments_lexer": "ipython3",
   "version": "3.9.7"
  }
 },
 "nbformat": 4,
 "nbformat_minor": 5
}
